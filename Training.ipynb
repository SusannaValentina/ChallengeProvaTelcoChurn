{
 "metadata": {
  "language_info": {
   "codemirror_mode": {
    "name": "ipython",
    "version": 3
   },
   "file_extension": ".py",
   "mimetype": "text/x-python",
   "name": "python",
   "nbconvert_exporter": "python",
   "pygments_lexer": "ipython3",
   "version": "3.9.2"
  },
  "orig_nbformat": 2,
  "kernelspec": {
   "name": "python392jvsc74a57bd064bc7a045511d70f24bcbacd0b476d6db2c397a5d8e58ccd2b3576b906af12b8",
   "display_name": "Python 3.9.2 64-bit"
  },
  "metadata": {
   "interpreter": {
    "hash": "64bc7a045511d70f24bcbacd0b476d6db2c397a5d8e58ccd2b3576b906af12b8"
   }
  }
 },
 "nbformat": 4,
 "nbformat_minor": 2,
 "cells": [
  {
   "cell_type": "code",
   "execution_count": 2,
   "metadata": {},
   "outputs": [
    {
     "output_type": "stream",
     "name": "stdout",
     "text": [
      "Requirement already satisfied: pandas in c:\\users\\susan\\appdata\\local\\programs\\python\\python39\\lib\\site-packages (from -r requirements.txt (line 1)) (1.2.3)\n",
      "Requirement already satisfied: sklearn in c:\\users\\susan\\appdata\\local\\programs\\python\\python39\\lib\\site-packages (from -r requirements.txt (line 2)) (0.0)\n",
      "Requirement already satisfied: seaborn in c:\\users\\susan\\appdata\\local\\programs\\python\\python39\\lib\\site-packages (from -r requirements.txt (line 3)) (0.11.1)\n",
      "Requirement already satisfied: numpy in c:\\users\\susan\\appdata\\local\\programs\\python\\python39\\lib\\site-packages (from -r requirements.txt (line 4)) (1.20.2)\n",
      "Requirement already satisfied: python-dateutil>=2.7.3 in c:\\users\\susan\\appdata\\local\\programs\\python\\python39\\lib\\site-packages (from pandas->-r requirements.txt (line 1)) (2.8.1)\n",
      "Requirement already satisfied: pytz>=2017.3 in c:\\users\\susan\\appdata\\local\\programs\\python\\python39\\lib\\site-packages (from pandas->-r requirements.txt (line 1)) (2021.1)\n",
      "Requirement already satisfied: scikit-learn in c:\\users\\susan\\appdata\\local\\programs\\python\\python39\\lib\\site-packages (from sklearn->-r requirements.txt (line 2)) (0.24.2)\n",
      "Requirement already satisfied: scipy>=1.0 in c:\\users\\susan\\appdata\\local\\programs\\python\\python39\\lib\\site-packages (from seaborn->-r requirements.txt (line 3)) (1.6.2)\n",
      "Requirement already satisfied: matplotlib>=2.2 in c:\\users\\susan\\appdata\\local\\programs\\python\\python39\\lib\\site-packages (from seaborn->-r requirements.txt (line 3)) (3.4.0)\n",
      "Requirement already satisfied: six>=1.5 in c:\\users\\susan\\appdata\\local\\programs\\python\\python39\\lib\\site-packages (from python-dateutil>=2.7.3->pandas->-r requirements.txt (line 1)) (1.15.0)\n",
      "Requirement already satisfied: threadpoolctl>=2.0.0 in c:\\users\\susan\\appdata\\local\\programs\\python\\python39\\lib\\site-packages (from scikit-learn->sklearn->-r requirements.txt (line 2)) (2.1.0)\n",
      "Requirement already satisfied: joblib>=0.11 in c:\\users\\susan\\appdata\\local\\programs\\python\\python39\\lib\\site-packages (from scikit-learn->sklearn->-r requirements.txt (line 2)) (1.0.1)\n",
      "Requirement already satisfied: pyparsing>=2.2.1 in c:\\users\\susan\\appdata\\local\\programs\\python\\python39\\lib\\site-packages (from matplotlib>=2.2->seaborn->-r requirements.txt (line 3)) (2.4.7)\n",
      "Requirement already satisfied: kiwisolver>=1.0.1 in c:\\users\\susan\\appdata\\local\\programs\\python\\python39\\lib\\site-packages (from matplotlib>=2.2->seaborn->-r requirements.txt (line 3)) (1.3.1)\n",
      "Requirement already satisfied: pillow>=6.2.0 in c:\\users\\susan\\appdata\\local\\programs\\python\\python39\\lib\\site-packages (from matplotlib>=2.2->seaborn->-r requirements.txt (line 3)) (8.1.2)\n",
      "Requirement already satisfied: cycler>=0.10 in c:\\users\\susan\\appdata\\local\\programs\\python\\python39\\lib\\site-packages (from matplotlib>=2.2->seaborn->-r requirements.txt (line 3)) (0.10.0)\n",
      "WARNING: You are using pip version 20.2.3; however, version 21.1.2 is available.\n",
      "You should consider upgrading via the 'c:\\users\\susan\\appdata\\local\\programs\\python\\python39\\python.exe -m pip install --upgrade pip' command.\n"
     ]
    }
   ],
   "source": [
    "!pip install -r requirements.txt"
   ]
  },
  {
   "cell_type": "code",
   "execution_count": 3,
   "metadata": {},
   "outputs": [],
   "source": [
    "import pandas as pd \n",
    "import seaborn as sns\n",
    "\n",
    "pd.set_option('display.max_columns', None)\n",
    "pd.set_option('display.max_rows', None)\n",
    "\n",
    "# Analisi dei dati\n",
    "\n",
    "# dati da leggere\n",
    "train_raw = pd.read_csv(\"./train.csv\")\n",
    "test_raw = pd.read_csv(\"./test.csv\")"
   ]
  },
  {
   "cell_type": "code",
   "execution_count": 4,
   "metadata": {},
   "outputs": [
    {
     "output_type": "execute_result",
     "data": {
      "text/plain": [
       "     Churn  customerID  gender  SeniorCitizen Partner Dependents  tenure  \\\n",
       "4070    No  6968-MHOMU    Male              0     Yes         No      58   \n",
       "4209    No  5141-ZUVBH  Female              0      No        Yes       9   \n",
       "3912   Yes  6772-KSATR    Male              0      No         No       1   \n",
       "3413    No  8780-YRMTT  Female              0      No         No      66   \n",
       "3627    No  0225-ZORZP    Male              0      No         No       3   \n",
       "3762    No  9364-YKUVW    Male              0      No         No      15   \n",
       "2751    No  0074-HDKDG    Male              0     Yes        Yes      25   \n",
       "1292   Yes  5536-RTPWK    Male              0     Yes         No      49   \n",
       "4029    No  3889-VWBID    Male              0     Yes        Yes      68   \n",
       "1689    No  7396-VJUZB    Male              0     Yes        Yes       4   \n",
       "\n",
       "     PhoneService     MultipleLines InternetService       OnlineSecurity  \\\n",
       "4070           No  No phone service             DSL                   No   \n",
       "4209          Yes                No     Fiber optic                  Yes   \n",
       "3912          Yes               Yes     Fiber optic                  Yes   \n",
       "3413           No  No phone service             DSL                  Yes   \n",
       "3627          Yes                No     Fiber optic                   No   \n",
       "3762          Yes                No              No  No internet service   \n",
       "2751          Yes                No             DSL                  Yes   \n",
       "1292          Yes               Yes     Fiber optic                   No   \n",
       "4029          Yes                No             DSL                  Yes   \n",
       "1689          Yes                No             DSL                   No   \n",
       "\n",
       "             OnlineBackup     DeviceProtection          TechSupport  \\\n",
       "4070                   No                   No                   No   \n",
       "4209                   No                  Yes                  Yes   \n",
       "3912                   No                   No                   No   \n",
       "3413                  Yes                  Yes                  Yes   \n",
       "3627                  Yes                   No                   No   \n",
       "3762  No internet service  No internet service  No internet service   \n",
       "2751                  Yes                  Yes                   No   \n",
       "1292                  Yes                   No                   No   \n",
       "4029                  Yes                   No                  Yes   \n",
       "1689                   No                   No                   No   \n",
       "\n",
       "              StreamingTV      StreamingMovies        Contract  \\\n",
       "4070                  Yes                  Yes        One year   \n",
       "4209                   No                  Yes  Month-to-month   \n",
       "3912                   No                   No  Month-to-month   \n",
       "3413                   No                   No        Two year   \n",
       "3627                   No                  Yes  Month-to-month   \n",
       "3762  No internet service  No internet service  Month-to-month   \n",
       "2751                   No                   No        One year   \n",
       "1292                  Yes                  Yes  Month-to-month   \n",
       "4029                  Yes                  Yes        Two year   \n",
       "1689                   No                   No  Month-to-month   \n",
       "\n",
       "     PaperlessBilling              PaymentMethod  MonthlyCharges TotalCharges  \n",
       "4070              Yes    Credit card (automatic)           45.00      2689.35  \n",
       "4209               No  Bank transfer (automatic)           93.00       870.25  \n",
       "3912              Yes           Electronic check           81.70         81.7  \n",
       "3413              Yes               Mailed check           47.40      3177.25  \n",
       "3627               No           Electronic check           84.30       235.05  \n",
       "3762              Yes               Mailed check           19.80        309.4  \n",
       "2751              Yes  Bank transfer (automatic)           61.60         1611  \n",
       "1292              Yes  Bank transfer (automatic)           99.05      4853.75  \n",
       "4029               No  Bank transfer (automatic)           82.85      5776.45  \n",
       "1689               No               Mailed check           45.25       155.35  "
      ],
      "text/html": "<div>\n<style scoped>\n    .dataframe tbody tr th:only-of-type {\n        vertical-align: middle;\n    }\n\n    .dataframe tbody tr th {\n        vertical-align: top;\n    }\n\n    .dataframe thead th {\n        text-align: right;\n    }\n</style>\n<table border=\"1\" class=\"dataframe\">\n  <thead>\n    <tr style=\"text-align: right;\">\n      <th></th>\n      <th>Churn</th>\n      <th>customerID</th>\n      <th>gender</th>\n      <th>SeniorCitizen</th>\n      <th>Partner</th>\n      <th>Dependents</th>\n      <th>tenure</th>\n      <th>PhoneService</th>\n      <th>MultipleLines</th>\n      <th>InternetService</th>\n      <th>OnlineSecurity</th>\n      <th>OnlineBackup</th>\n      <th>DeviceProtection</th>\n      <th>TechSupport</th>\n      <th>StreamingTV</th>\n      <th>StreamingMovies</th>\n      <th>Contract</th>\n      <th>PaperlessBilling</th>\n      <th>PaymentMethod</th>\n      <th>MonthlyCharges</th>\n      <th>TotalCharges</th>\n    </tr>\n  </thead>\n  <tbody>\n    <tr>\n      <th>4070</th>\n      <td>No</td>\n      <td>6968-MHOMU</td>\n      <td>Male</td>\n      <td>0</td>\n      <td>Yes</td>\n      <td>No</td>\n      <td>58</td>\n      <td>No</td>\n      <td>No phone service</td>\n      <td>DSL</td>\n      <td>No</td>\n      <td>No</td>\n      <td>No</td>\n      <td>No</td>\n      <td>Yes</td>\n      <td>Yes</td>\n      <td>One year</td>\n      <td>Yes</td>\n      <td>Credit card (automatic)</td>\n      <td>45.00</td>\n      <td>2689.35</td>\n    </tr>\n    <tr>\n      <th>4209</th>\n      <td>No</td>\n      <td>5141-ZUVBH</td>\n      <td>Female</td>\n      <td>0</td>\n      <td>No</td>\n      <td>Yes</td>\n      <td>9</td>\n      <td>Yes</td>\n      <td>No</td>\n      <td>Fiber optic</td>\n      <td>Yes</td>\n      <td>No</td>\n      <td>Yes</td>\n      <td>Yes</td>\n      <td>No</td>\n      <td>Yes</td>\n      <td>Month-to-month</td>\n      <td>No</td>\n      <td>Bank transfer (automatic)</td>\n      <td>93.00</td>\n      <td>870.25</td>\n    </tr>\n    <tr>\n      <th>3912</th>\n      <td>Yes</td>\n      <td>6772-KSATR</td>\n      <td>Male</td>\n      <td>0</td>\n      <td>No</td>\n      <td>No</td>\n      <td>1</td>\n      <td>Yes</td>\n      <td>Yes</td>\n      <td>Fiber optic</td>\n      <td>Yes</td>\n      <td>No</td>\n      <td>No</td>\n      <td>No</td>\n      <td>No</td>\n      <td>No</td>\n      <td>Month-to-month</td>\n      <td>Yes</td>\n      <td>Electronic check</td>\n      <td>81.70</td>\n      <td>81.7</td>\n    </tr>\n    <tr>\n      <th>3413</th>\n      <td>No</td>\n      <td>8780-YRMTT</td>\n      <td>Female</td>\n      <td>0</td>\n      <td>No</td>\n      <td>No</td>\n      <td>66</td>\n      <td>No</td>\n      <td>No phone service</td>\n      <td>DSL</td>\n      <td>Yes</td>\n      <td>Yes</td>\n      <td>Yes</td>\n      <td>Yes</td>\n      <td>No</td>\n      <td>No</td>\n      <td>Two year</td>\n      <td>Yes</td>\n      <td>Mailed check</td>\n      <td>47.40</td>\n      <td>3177.25</td>\n    </tr>\n    <tr>\n      <th>3627</th>\n      <td>No</td>\n      <td>0225-ZORZP</td>\n      <td>Male</td>\n      <td>0</td>\n      <td>No</td>\n      <td>No</td>\n      <td>3</td>\n      <td>Yes</td>\n      <td>No</td>\n      <td>Fiber optic</td>\n      <td>No</td>\n      <td>Yes</td>\n      <td>No</td>\n      <td>No</td>\n      <td>No</td>\n      <td>Yes</td>\n      <td>Month-to-month</td>\n      <td>No</td>\n      <td>Electronic check</td>\n      <td>84.30</td>\n      <td>235.05</td>\n    </tr>\n    <tr>\n      <th>3762</th>\n      <td>No</td>\n      <td>9364-YKUVW</td>\n      <td>Male</td>\n      <td>0</td>\n      <td>No</td>\n      <td>No</td>\n      <td>15</td>\n      <td>Yes</td>\n      <td>No</td>\n      <td>No</td>\n      <td>No internet service</td>\n      <td>No internet service</td>\n      <td>No internet service</td>\n      <td>No internet service</td>\n      <td>No internet service</td>\n      <td>No internet service</td>\n      <td>Month-to-month</td>\n      <td>Yes</td>\n      <td>Mailed check</td>\n      <td>19.80</td>\n      <td>309.4</td>\n    </tr>\n    <tr>\n      <th>2751</th>\n      <td>No</td>\n      <td>0074-HDKDG</td>\n      <td>Male</td>\n      <td>0</td>\n      <td>Yes</td>\n      <td>Yes</td>\n      <td>25</td>\n      <td>Yes</td>\n      <td>No</td>\n      <td>DSL</td>\n      <td>Yes</td>\n      <td>Yes</td>\n      <td>Yes</td>\n      <td>No</td>\n      <td>No</td>\n      <td>No</td>\n      <td>One year</td>\n      <td>Yes</td>\n      <td>Bank transfer (automatic)</td>\n      <td>61.60</td>\n      <td>1611</td>\n    </tr>\n    <tr>\n      <th>1292</th>\n      <td>Yes</td>\n      <td>5536-RTPWK</td>\n      <td>Male</td>\n      <td>0</td>\n      <td>Yes</td>\n      <td>No</td>\n      <td>49</td>\n      <td>Yes</td>\n      <td>Yes</td>\n      <td>Fiber optic</td>\n      <td>No</td>\n      <td>Yes</td>\n      <td>No</td>\n      <td>No</td>\n      <td>Yes</td>\n      <td>Yes</td>\n      <td>Month-to-month</td>\n      <td>Yes</td>\n      <td>Bank transfer (automatic)</td>\n      <td>99.05</td>\n      <td>4853.75</td>\n    </tr>\n    <tr>\n      <th>4029</th>\n      <td>No</td>\n      <td>3889-VWBID</td>\n      <td>Male</td>\n      <td>0</td>\n      <td>Yes</td>\n      <td>Yes</td>\n      <td>68</td>\n      <td>Yes</td>\n      <td>No</td>\n      <td>DSL</td>\n      <td>Yes</td>\n      <td>Yes</td>\n      <td>No</td>\n      <td>Yes</td>\n      <td>Yes</td>\n      <td>Yes</td>\n      <td>Two year</td>\n      <td>No</td>\n      <td>Bank transfer (automatic)</td>\n      <td>82.85</td>\n      <td>5776.45</td>\n    </tr>\n    <tr>\n      <th>1689</th>\n      <td>No</td>\n      <td>7396-VJUZB</td>\n      <td>Male</td>\n      <td>0</td>\n      <td>Yes</td>\n      <td>Yes</td>\n      <td>4</td>\n      <td>Yes</td>\n      <td>No</td>\n      <td>DSL</td>\n      <td>No</td>\n      <td>No</td>\n      <td>No</td>\n      <td>No</td>\n      <td>No</td>\n      <td>No</td>\n      <td>Month-to-month</td>\n      <td>No</td>\n      <td>Mailed check</td>\n      <td>45.25</td>\n      <td>155.35</td>\n    </tr>\n  </tbody>\n</table>\n</div>"
     },
     "metadata": {},
     "execution_count": 4
    }
   ],
   "source": [
    "train_raw.sample(10)"
   ]
  },
  {
   "cell_type": "code",
   "execution_count": 5,
   "metadata": {},
   "outputs": [
    {
     "output_type": "execute_result",
     "data": {
      "text/plain": [
       "       Churn  customerID gender  SeniorCitizen Partner Dependents  \\\n",
       "count   4507        4507   4507    4507.000000    4507       4507   \n",
       "unique     2        4507      2            NaN       2          2   \n",
       "top       No  1057-FOGLZ   Male            NaN      No         No   \n",
       "freq    3296           1   2299            NaN    2323       3167   \n",
       "mean     NaN         NaN    NaN       0.159308     NaN        NaN   \n",
       "std      NaN         NaN    NaN       0.366003     NaN        NaN   \n",
       "min      NaN         NaN    NaN       0.000000     NaN        NaN   \n",
       "25%      NaN         NaN    NaN       0.000000     NaN        NaN   \n",
       "50%      NaN         NaN    NaN       0.000000     NaN        NaN   \n",
       "75%      NaN         NaN    NaN       0.000000     NaN        NaN   \n",
       "max      NaN         NaN    NaN       1.000000     NaN        NaN   \n",
       "\n",
       "             tenure PhoneService MultipleLines InternetService OnlineSecurity  \\\n",
       "count   4507.000000         4507          4507            4507           4507   \n",
       "unique          NaN            2             3               3              3   \n",
       "top             NaN          Yes            No     Fiber optic             No   \n",
       "freq            NaN         4072          2146            2017           2256   \n",
       "mean      32.171955          NaN           NaN             NaN            NaN   \n",
       "std       24.487239          NaN           NaN             NaN            NaN   \n",
       "min        0.000000          NaN           NaN             NaN            NaN   \n",
       "25%        9.000000          NaN           NaN             NaN            NaN   \n",
       "50%       28.000000          NaN           NaN             NaN            NaN   \n",
       "75%       55.000000          NaN           NaN             NaN            NaN   \n",
       "max       72.000000          NaN           NaN             NaN            NaN   \n",
       "\n",
       "       OnlineBackup DeviceProtection TechSupport StreamingTV StreamingMovies  \\\n",
       "count          4507             4507        4507        4507            4507   \n",
       "unique            3                3           3           3               3   \n",
       "top              No               No          No          No              No   \n",
       "freq           1947             1984        2251        1797            1783   \n",
       "mean            NaN              NaN         NaN         NaN             NaN   \n",
       "std             NaN              NaN         NaN         NaN             NaN   \n",
       "min             NaN              NaN         NaN         NaN             NaN   \n",
       "25%             NaN              NaN         NaN         NaN             NaN   \n",
       "50%             NaN              NaN         NaN         NaN             NaN   \n",
       "75%             NaN              NaN         NaN         NaN             NaN   \n",
       "max             NaN              NaN         NaN         NaN             NaN   \n",
       "\n",
       "              Contract PaperlessBilling     PaymentMethod  MonthlyCharges  \\\n",
       "count             4507             4507              4507     4507.000000   \n",
       "unique               3                2                 4             NaN   \n",
       "top     Month-to-month              Yes  Electronic check             NaN   \n",
       "freq              2466             2672              1498             NaN   \n",
       "mean               NaN              NaN               NaN       64.914688   \n",
       "std                NaN              NaN               NaN       30.201099   \n",
       "min                NaN              NaN               NaN       18.250000   \n",
       "25%                NaN              NaN               NaN       35.450000   \n",
       "50%                NaN              NaN               NaN       70.700000   \n",
       "75%                NaN              NaN               NaN       89.975000   \n",
       "max                NaN              NaN               NaN      118.350000   \n",
       "\n",
       "       TotalCharges  \n",
       "count          4507  \n",
       "unique         4267  \n",
       "top                  \n",
       "freq              8  \n",
       "mean            NaN  \n",
       "std             NaN  \n",
       "min             NaN  \n",
       "25%             NaN  \n",
       "50%             NaN  \n",
       "75%             NaN  \n",
       "max             NaN  "
      ],
      "text/html": "<div>\n<style scoped>\n    .dataframe tbody tr th:only-of-type {\n        vertical-align: middle;\n    }\n\n    .dataframe tbody tr th {\n        vertical-align: top;\n    }\n\n    .dataframe thead th {\n        text-align: right;\n    }\n</style>\n<table border=\"1\" class=\"dataframe\">\n  <thead>\n    <tr style=\"text-align: right;\">\n      <th></th>\n      <th>Churn</th>\n      <th>customerID</th>\n      <th>gender</th>\n      <th>SeniorCitizen</th>\n      <th>Partner</th>\n      <th>Dependents</th>\n      <th>tenure</th>\n      <th>PhoneService</th>\n      <th>MultipleLines</th>\n      <th>InternetService</th>\n      <th>OnlineSecurity</th>\n      <th>OnlineBackup</th>\n      <th>DeviceProtection</th>\n      <th>TechSupport</th>\n      <th>StreamingTV</th>\n      <th>StreamingMovies</th>\n      <th>Contract</th>\n      <th>PaperlessBilling</th>\n      <th>PaymentMethod</th>\n      <th>MonthlyCharges</th>\n      <th>TotalCharges</th>\n    </tr>\n  </thead>\n  <tbody>\n    <tr>\n      <th>count</th>\n      <td>4507</td>\n      <td>4507</td>\n      <td>4507</td>\n      <td>4507.000000</td>\n      <td>4507</td>\n      <td>4507</td>\n      <td>4507.000000</td>\n      <td>4507</td>\n      <td>4507</td>\n      <td>4507</td>\n      <td>4507</td>\n      <td>4507</td>\n      <td>4507</td>\n      <td>4507</td>\n      <td>4507</td>\n      <td>4507</td>\n      <td>4507</td>\n      <td>4507</td>\n      <td>4507</td>\n      <td>4507.000000</td>\n      <td>4507</td>\n    </tr>\n    <tr>\n      <th>unique</th>\n      <td>2</td>\n      <td>4507</td>\n      <td>2</td>\n      <td>NaN</td>\n      <td>2</td>\n      <td>2</td>\n      <td>NaN</td>\n      <td>2</td>\n      <td>3</td>\n      <td>3</td>\n      <td>3</td>\n      <td>3</td>\n      <td>3</td>\n      <td>3</td>\n      <td>3</td>\n      <td>3</td>\n      <td>3</td>\n      <td>2</td>\n      <td>4</td>\n      <td>NaN</td>\n      <td>4267</td>\n    </tr>\n    <tr>\n      <th>top</th>\n      <td>No</td>\n      <td>1057-FOGLZ</td>\n      <td>Male</td>\n      <td>NaN</td>\n      <td>No</td>\n      <td>No</td>\n      <td>NaN</td>\n      <td>Yes</td>\n      <td>No</td>\n      <td>Fiber optic</td>\n      <td>No</td>\n      <td>No</td>\n      <td>No</td>\n      <td>No</td>\n      <td>No</td>\n      <td>No</td>\n      <td>Month-to-month</td>\n      <td>Yes</td>\n      <td>Electronic check</td>\n      <td>NaN</td>\n      <td></td>\n    </tr>\n    <tr>\n      <th>freq</th>\n      <td>3296</td>\n      <td>1</td>\n      <td>2299</td>\n      <td>NaN</td>\n      <td>2323</td>\n      <td>3167</td>\n      <td>NaN</td>\n      <td>4072</td>\n      <td>2146</td>\n      <td>2017</td>\n      <td>2256</td>\n      <td>1947</td>\n      <td>1984</td>\n      <td>2251</td>\n      <td>1797</td>\n      <td>1783</td>\n      <td>2466</td>\n      <td>2672</td>\n      <td>1498</td>\n      <td>NaN</td>\n      <td>8</td>\n    </tr>\n    <tr>\n      <th>mean</th>\n      <td>NaN</td>\n      <td>NaN</td>\n      <td>NaN</td>\n      <td>0.159308</td>\n      <td>NaN</td>\n      <td>NaN</td>\n      <td>32.171955</td>\n      <td>NaN</td>\n      <td>NaN</td>\n      <td>NaN</td>\n      <td>NaN</td>\n      <td>NaN</td>\n      <td>NaN</td>\n      <td>NaN</td>\n      <td>NaN</td>\n      <td>NaN</td>\n      <td>NaN</td>\n      <td>NaN</td>\n      <td>NaN</td>\n      <td>64.914688</td>\n      <td>NaN</td>\n    </tr>\n    <tr>\n      <th>std</th>\n      <td>NaN</td>\n      <td>NaN</td>\n      <td>NaN</td>\n      <td>0.366003</td>\n      <td>NaN</td>\n      <td>NaN</td>\n      <td>24.487239</td>\n      <td>NaN</td>\n      <td>NaN</td>\n      <td>NaN</td>\n      <td>NaN</td>\n      <td>NaN</td>\n      <td>NaN</td>\n      <td>NaN</td>\n      <td>NaN</td>\n      <td>NaN</td>\n      <td>NaN</td>\n      <td>NaN</td>\n      <td>NaN</td>\n      <td>30.201099</td>\n      <td>NaN</td>\n    </tr>\n    <tr>\n      <th>min</th>\n      <td>NaN</td>\n      <td>NaN</td>\n      <td>NaN</td>\n      <td>0.000000</td>\n      <td>NaN</td>\n      <td>NaN</td>\n      <td>0.000000</td>\n      <td>NaN</td>\n      <td>NaN</td>\n      <td>NaN</td>\n      <td>NaN</td>\n      <td>NaN</td>\n      <td>NaN</td>\n      <td>NaN</td>\n      <td>NaN</td>\n      <td>NaN</td>\n      <td>NaN</td>\n      <td>NaN</td>\n      <td>NaN</td>\n      <td>18.250000</td>\n      <td>NaN</td>\n    </tr>\n    <tr>\n      <th>25%</th>\n      <td>NaN</td>\n      <td>NaN</td>\n      <td>NaN</td>\n      <td>0.000000</td>\n      <td>NaN</td>\n      <td>NaN</td>\n      <td>9.000000</td>\n      <td>NaN</td>\n      <td>NaN</td>\n      <td>NaN</td>\n      <td>NaN</td>\n      <td>NaN</td>\n      <td>NaN</td>\n      <td>NaN</td>\n      <td>NaN</td>\n      <td>NaN</td>\n      <td>NaN</td>\n      <td>NaN</td>\n      <td>NaN</td>\n      <td>35.450000</td>\n      <td>NaN</td>\n    </tr>\n    <tr>\n      <th>50%</th>\n      <td>NaN</td>\n      <td>NaN</td>\n      <td>NaN</td>\n      <td>0.000000</td>\n      <td>NaN</td>\n      <td>NaN</td>\n      <td>28.000000</td>\n      <td>NaN</td>\n      <td>NaN</td>\n      <td>NaN</td>\n      <td>NaN</td>\n      <td>NaN</td>\n      <td>NaN</td>\n      <td>NaN</td>\n      <td>NaN</td>\n      <td>NaN</td>\n      <td>NaN</td>\n      <td>NaN</td>\n      <td>NaN</td>\n      <td>70.700000</td>\n      <td>NaN</td>\n    </tr>\n    <tr>\n      <th>75%</th>\n      <td>NaN</td>\n      <td>NaN</td>\n      <td>NaN</td>\n      <td>0.000000</td>\n      <td>NaN</td>\n      <td>NaN</td>\n      <td>55.000000</td>\n      <td>NaN</td>\n      <td>NaN</td>\n      <td>NaN</td>\n      <td>NaN</td>\n      <td>NaN</td>\n      <td>NaN</td>\n      <td>NaN</td>\n      <td>NaN</td>\n      <td>NaN</td>\n      <td>NaN</td>\n      <td>NaN</td>\n      <td>NaN</td>\n      <td>89.975000</td>\n      <td>NaN</td>\n    </tr>\n    <tr>\n      <th>max</th>\n      <td>NaN</td>\n      <td>NaN</td>\n      <td>NaN</td>\n      <td>1.000000</td>\n      <td>NaN</td>\n      <td>NaN</td>\n      <td>72.000000</td>\n      <td>NaN</td>\n      <td>NaN</td>\n      <td>NaN</td>\n      <td>NaN</td>\n      <td>NaN</td>\n      <td>NaN</td>\n      <td>NaN</td>\n      <td>NaN</td>\n      <td>NaN</td>\n      <td>NaN</td>\n      <td>NaN</td>\n      <td>NaN</td>\n      <td>118.350000</td>\n      <td>NaN</td>\n    </tr>\n  </tbody>\n</table>\n</div>"
     },
     "metadata": {},
     "execution_count": 5
    }
   ],
   "source": [
    "train_raw.describe(include = \"all\")"
   ]
  },
  {
   "cell_type": "code",
   "execution_count": 6,
   "metadata": {},
   "outputs": [
    {
     "output_type": "stream",
     "name": "stdout",
     "text": [
      "<class 'pandas.core.frame.DataFrame'>\nRangeIndex: 4507 entries, 0 to 4506\nData columns (total 21 columns):\n #   Column            Non-Null Count  Dtype  \n---  ------            --------------  -----  \n 0   Churn             4507 non-null   object \n 1   customerID        4507 non-null   object \n 2   gender            4507 non-null   object \n 3   SeniorCitizen     4507 non-null   int64  \n 4   Partner           4507 non-null   object \n 5   Dependents        4507 non-null   object \n 6   tenure            4507 non-null   int64  \n 7   PhoneService      4507 non-null   object \n 8   MultipleLines     4507 non-null   object \n 9   InternetService   4507 non-null   object \n 10  OnlineSecurity    4507 non-null   object \n 11  OnlineBackup      4507 non-null   object \n 12  DeviceProtection  4507 non-null   object \n 13  TechSupport       4507 non-null   object \n 14  StreamingTV       4507 non-null   object \n 15  StreamingMovies   4507 non-null   object \n 16  Contract          4507 non-null   object \n 17  PaperlessBilling  4507 non-null   object \n 18  PaymentMethod     4507 non-null   object \n 19  MonthlyCharges    4507 non-null   float64\n 20  TotalCharges      4507 non-null   object \ndtypes: float64(1), int64(2), object(18)\nmemory usage: 739.6+ KB\n"
     ]
    }
   ],
   "source": [
    "train_raw.info()"
   ]
  },
  {
   "cell_type": "code",
   "execution_count": 7,
   "metadata": {},
   "outputs": [],
   "source": [
    "# Elimino le feature non necessarie\n",
    "train_raw.drop([\"customerID\"], axis=1, inplace=True)\n",
    "test_raw.drop([\"customerID\"], axis=1, inplace=True)"
   ]
  },
  {
   "cell_type": "code",
   "execution_count": 8,
   "metadata": {},
   "outputs": [],
   "source": [
    "# Trasformo la colonna TotalCharges in float\n",
    "train_raw['TotalCharges'] = pd.to_numeric(train_raw.TotalCharges, errors = \"coerce\")\n",
    "test_raw['TotalCharges'] = pd.to_numeric(test_raw.TotalCharges, errors = \"coerce\")\n",
    "\n",
    "train_raw['Churn'].replace(to_replace = 'Yes', value = 1, inplace = True)\n",
    "train_raw['Churn'].replace(to_replace = 'No', value = 0, inplace = True)\n",
    "test_raw['Churn'].replace(to_replace = 'Yes', value = 1, inplace = True)\n",
    "test_raw['Churn'].replace(to_replace = 'No', value = 0, inplace = True)"
   ]
  },
  {
   "cell_type": "code",
   "execution_count": 9,
   "metadata": {
    "tags": []
   },
   "outputs": [
    {
     "output_type": "stream",
     "name": "stdout",
     "text": [
      "Churn               0\ngender              0\nSeniorCitizen       0\nPartner             0\nDependents          0\ntenure              0\nPhoneService        0\nMultipleLines       0\nInternetService     0\nOnlineSecurity      0\nOnlineBackup        0\nDeviceProtection    0\nTechSupport         0\nStreamingTV         0\nStreamingMovies     0\nContract            0\nPaperlessBilling    0\nPaymentMethod       0\nMonthlyCharges      0\nTotalCharges        8\ndtype: int64\nChurn               0\ngender              0\nSeniorCitizen       0\nPartner             0\nDependents          0\ntenure              0\nPhoneService        0\nMultipleLines       0\nInternetService     0\nOnlineSecurity      0\nOnlineBackup        0\nDeviceProtection    0\nTechSupport         0\nStreamingTV         0\nStreamingMovies     0\nContract            0\nPaperlessBilling    0\nPaymentMethod       0\nMonthlyCharges      0\nTotalCharges        2\ndtype: int64\n"
     ]
    }
   ],
   "source": [
    "print(train_raw.isnull().sum())\n",
    "print(test_raw.isnull().sum())"
   ]
  },
  {
   "cell_type": "code",
   "execution_count": 10,
   "metadata": {},
   "outputs": [],
   "source": [
    "import numpy as np\n",
    "# Replace dei valori nulli di TotalCharges con la media della colonna\n",
    "mediaTrain = train_raw['TotalCharges'].mean()\n",
    "mediaTest = test_raw['TotalCharges'].mean()\n",
    "\n",
    "train_raw['TotalCharges'] = train_raw['TotalCharges'].replace(np.NaN, mediaTrain).astype('float64')\n",
    "test_raw['TotalCharges'] = test_raw['TotalCharges'].replace(np.NaN, mediaTest).astype('float64')"
   ]
  },
  {
   "cell_type": "code",
   "execution_count": 11,
   "metadata": {},
   "outputs": [
    {
     "output_type": "stream",
     "name": "stdout",
     "text": [
      "Churn               0\ngender              0\nSeniorCitizen       0\nPartner             0\nDependents          0\ntenure              0\nPhoneService        0\nMultipleLines       0\nInternetService     0\nOnlineSecurity      0\nOnlineBackup        0\nDeviceProtection    0\nTechSupport         0\nStreamingTV         0\nStreamingMovies     0\nContract            0\nPaperlessBilling    0\nPaymentMethod       0\nMonthlyCharges      0\nTotalCharges        0\ndtype: int64\nChurn               0\ngender              0\nSeniorCitizen       0\nPartner             0\nDependents          0\ntenure              0\nPhoneService        0\nMultipleLines       0\nInternetService     0\nOnlineSecurity      0\nOnlineBackup        0\nDeviceProtection    0\nTechSupport         0\nStreamingTV         0\nStreamingMovies     0\nContract            0\nPaperlessBilling    0\nPaymentMethod       0\nMonthlyCharges      0\nTotalCharges        0\ndtype: int64\n"
     ]
    }
   ],
   "source": [
    "print(train_raw.isnull().sum())\n",
    "print(test_raw.isnull().sum())"
   ]
  },
  {
   "cell_type": "code",
   "execution_count": 12,
   "metadata": {},
   "outputs": [
    {
     "output_type": "stream",
     "name": "stdout",
     "text": [
      "Categorical variables:\n['gender', 'Partner', 'Dependents', 'PhoneService', 'MultipleLines', 'InternetService', 'OnlineSecurity', 'OnlineBackup', 'DeviceProtection', 'TechSupport', 'StreamingTV', 'StreamingMovies', 'Contract', 'PaperlessBilling', 'PaymentMethod']\nCategorical variables:\n['gender', 'Partner', 'Dependents', 'PhoneService', 'MultipleLines', 'InternetService', 'OnlineSecurity', 'OnlineBackup', 'DeviceProtection', 'TechSupport', 'StreamingTV', 'StreamingMovies', 'Contract', 'PaperlessBilling', 'PaymentMethod']\n"
     ]
    }
   ],
   "source": [
    "# Get list of categorical variables\n",
    "s = (train_raw.dtypes == 'object')\n",
    "object_cols = list(s[s].index)\n",
    "\n",
    "print(\"Categorical variables:\")\n",
    "print(object_cols)\n",
    "\n",
    "train2 = train_raw.drop(object_cols, axis = 1)\n",
    "train3 = pd.get_dummies(train_raw[object_cols])\n",
    "train = pd.concat([train3,train2], axis = 1)\n",
    "\n",
    "\n",
    "s = (test_raw.dtypes == 'object')\n",
    "object_cols = list(s[s].index)\n",
    "\n",
    "print(\"Categorical variables:\")\n",
    "print(object_cols)\n",
    "\n",
    "test2 = test_raw.drop(object_cols, axis = 1)\n",
    "test3 = pd.get_dummies(test_raw[object_cols])\n",
    "test = pd.concat([test3,test2], axis = 1)"
   ]
  },
  {
   "cell_type": "code",
   "execution_count": 13,
   "metadata": {},
   "outputs": [],
   "source": [
    "y_train = train[\"Churn\"].values\n",
    "x_train = train.drop([\"Churn\"], axis = 1).values\n",
    "\n",
    "y_test = test['Churn'].values\n",
    "x_test = test.drop(['Churn'], axis = 1).values"
   ]
  },
  {
   "cell_type": "code",
   "execution_count": 14,
   "metadata": {},
   "outputs": [
    {
     "output_type": "stream",
     "name": "stdout",
     "text": [
      "Accuracy on training set: 0.797\nAccuracy on test set: 0.812\n"
     ]
    }
   ],
   "source": [
    "from sklearn.linear_model import LogisticRegression\n",
    "\n",
    "logic = LogisticRegression(random_state=0, max_iter=1000)\n",
    "logic.fit(x_train, y_train)\n",
    "print(\"Accuracy on training set: {:.3f}\".format(logic.score(x_train, y_train)))\n",
    "print(\"Accuracy on test set: {:.3f}\".format(logic.score(x_test, y_test)))"
   ]
  }
 ]
}